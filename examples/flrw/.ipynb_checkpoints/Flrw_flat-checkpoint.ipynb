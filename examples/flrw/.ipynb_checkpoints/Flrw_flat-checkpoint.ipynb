{
 "metadata": {
  "name": ""
 },
 "nbformat": 3,
 "nbformat_minor": 0,
 "worksheets": [
  {
   "cells": [
    {
     "cell_type": "code",
     "collapsed": false,
     "input": [
      "from astropy import cosmology as cosmo\n",
      "c=cosmo.FlatLambdaCDM(H0=72.0,Om0=1,Tcmb0=0.0,Neff=0.0,name=\"simple flat\")"
     ],
     "language": "python",
     "metadata": {},
     "outputs": [],
     "prompt_number": 5
    },
    {
     "cell_type": "heading",
     "level": 2,
     "metadata": {},
     "source": [
      "$\\rho$"
     ]
    },
    {
     "cell_type": "code",
     "collapsed": false,
     "input": [
      "from numpy import matlib as ml\n",
      "from scipy.optimize import curve_fit\n",
      "\n",
      "def f(x,a,b,c):\n",
      "    return a*(x+b)**(2.0/3.0) + c\n",
      "\n",
      "#r indices\n",
      "ind=100\n",
      "\n",
      "#inputs\n",
      "R=np.genfromtxt('R.dat');\n",
      "r,M,tB,E=np.genfromtxt('model_fun.dat',unpack=True)\n",
      "t,t1=np.genfromtxt('t.dat',unpack=True)\n",
      "rho = np.genfromtxt('rho_a.dat');\n",
      "rho=rho[:,ind]\n",
      "\n",
      "#scale factor\n",
      "a=ml.repmat(r,R.shape[0],1)\n",
      "a=R/a\n",
      "#actual value of scale factor\n",
      "a0=a[0,0]\n",
      "#a0=1.0\n",
      "#scale factor a0 -> 1\n",
      "#a=a/a0\n",
      "\n",
      "#G gravitational constant\n",
      "G=6.67300e-11 * 1.98892e40 / 3.08568025e22 / (299792458.0*299792458.0)\n",
      "#Hubble paramaeter 100h^{-1} Gpc^{-1}\n",
      "H0 = 100.0 / 299792.458 * 1000\n",
      "#critical density\n",
      "ro0 = 3.0*H0*H0/(8*pi*G)\n",
      "#tB - time of Big Bang (like in LTB tB(r)) \n",
      "tB = 0.0\n",
      "\n",
      "#constant from integreting Friedmann equation to get a(t) dependencies\n",
      "iconst=(6*pi*G*ro0)**(1.0/3.0)\n",
      "#a -analytic formula k=0\n",
      "a_flrw = (iconst)*(t[:]-tB)**(2.0/3.0)\n",
      "#rho analytic formula - > Friedman eq + Fluid eq.\n",
      "rho_flrw = ro0 /(a_flrw**3)\n",
      "\n",
      "print rho_flrw.max()/rho.max()\n",
      "ratio=rho_flrw/rho\n",
      "\n",
      "#plotting\n",
      "clf()\n",
      "plot(t[10:],rho_flrw[10:],'b-')\n",
      "plot(t[10:],5*rho[10:],'r+')\n",
      "\n",
      "#curve fit\n",
      "#popt, pcov=curve_fit(f,t[:],a[:,ind])\n",
      "#plot(t[:],f(t[:],popt[0],popt[1],popt[2]),'b')"
     ],
     "language": "python",
     "metadata": {},
     "outputs": [
      {
       "output_type": "stream",
       "stream": "stdout",
       "text": [
        "ro0=27751973.7513\n",
        "5.00002191177\n"
       ]
      },
      {
       "metadata": {},
       "output_type": "pyout",
       "prompt_number": 3,
       "text": [
        "[<matplotlib.lines.Line2D at 0xa00be4c>]"
       ]
      }
     ],
     "prompt_number": 3
    },
    {
     "cell_type": "heading",
     "level": 3,
     "metadata": {},
     "source": [
      "a(t)"
     ]
    },
    {
     "cell_type": "code",
     "collapsed": false,
     "input": [
      "from numpy import matlib as ml\n",
      "from scipy.optimize import curve_fit\n",
      "\n",
      "def f(x,a,b,c):\n",
      "    return a*(x+b)**(2.0/3.0) + c\n",
      "\n",
      "R=np.genfromtxt('R.dat');\n",
      "r,M,tB,E=np.genfromtxt('model_fun.dat',unpack=True)\n",
      "t,t1=np.genfromtxt('t.dat',unpack=True)\n",
      "#r indices\n",
      "ind=3\n",
      "#scale factor\n",
      "a=ml.repmat(r,R.shape[0],1)\n",
      "a=R/a\n",
      "#actual value of scale factor\n",
      "#a0=a[0,0]\n",
      "a0=1.0\n",
      "#scale factor a0 -> 1\n",
      "#a=a/a0\n",
      "#G gravitational constant\n",
      "G=6.67300e-11 * 1.98892e40 / 3.08568025e22 / (299792458.0*299792458.0)\n",
      "#Hubble paramaeter 100h^{-1} Gpc^{-1}\n",
      "H0 = 100.0 / 299792.458 * 1000\n",
      "#critical density\n",
      "ro0 = 3.0*H0*H0/(8*pi*G)\n",
      "print \"ro0={0}\".format(ro0)\n",
      "#tB - time of Big Bang (like in LTB tB(r)) \n",
      "tB = 0.0\n",
      "#constant from integreting Friedmann equation to get a(t) dependencies\n",
      "iconst=(6*pi*G*ro0)**(1.0/3.0)\n",
      "a_flrw = (iconst)*(t[:]-tB)**(2.0/3.0)\n",
      "\n",
      "#plotting\n",
      "clf()\n",
      "plot(t[:],a[:,ind],'r+')\n",
      "plot(t[:],a_flrw,'b-')\n",
      "#plot(t[:],(iconst)*(t[:]-tB)**(2.0/3.0),'b')\n",
      "#curve fit\n",
      "#popt, pcov=curve_fit(f,t[:],a[:,ind])\n",
      "#plot(t[:],f(t[:],popt[0],popt[1],popt[2]),'b')"
     ],
     "language": "python",
     "metadata": {},
     "outputs": [
      {
       "output_type": "stream",
       "stream": "stdout",
       "text": [
        "ro0=27751973.7513\n",
        "2.99299904993e-06"
       ]
      },
      {
       "output_type": "stream",
       "stream": "stdout",
       "text": [
        "\n"
       ]
      }
     ],
     "prompt_number": 5
    },
    {
     "cell_type": "code",
     "collapsed": false,
     "input": [],
     "language": "python",
     "metadata": {},
     "outputs": []
    },
    {
     "cell_type": "heading",
     "level": 3,
     "metadata": {},
     "source": [
      "a(r)"
     ]
    },
    {
     "cell_type": "code",
     "collapsed": false,
     "input": [
      "from numpy import matlib as ml\n",
      "R=np.genfromtxt('R.dat');\n",
      "r,M,tB,E=np.genfromtxt('model_fun.dat',unpack=True)\n",
      "rr=ml.repmat(r,R.shape[0],1)\n",
      "ind=3\n",
      "#S=R/rr\n",
      "S=R\n",
      "clf()\n",
      "plot(r[1:-1],S[0,1:-1],'r')\n",
      "plot(r[1:-1],S[1,1:-1],'g')\n",
      "plot(r[1:-1],S[2,1:-1],'b')\n",
      "plot(r[1:-1],S[3,1:-1],'c')"
     ],
     "language": "python",
     "metadata": {},
     "outputs": [
      {
       "output_type": "pyout",
       "prompt_number": 2,
       "text": [
        "[<matplotlib.lines.Line2D at 0x9d57f4c>]"
       ]
      }
     ],
     "prompt_number": 2
    },
    {
     "cell_type": "code",
     "collapsed": false,
     "input": [
      "from numpy import matlib as ml\n",
      "R=np.genfromtxt('R.dat');\n",
      "R_r=np.genfromtxt('R_r_a.dat');\n",
      "R_t=np.genfromtxt('R_t_a.dat');\n",
      "r,M,tB,E=np.genfromtxt('model_fun.dat',unpack=True)\n",
      "t,t1=np.genfromtxt('t.dat',unpack=True)\n",
      "ind=3\n",
      "clf()\n",
      "plot(r[:],R_t[0,:],'ro')\n",
      "plot(r[:],R_t[1,:],'g--')\n",
      "plot(r[:],R_t[2,:],'b--')\n",
      "plot(r[:],R_t[3,:],'y.')"
     ],
     "language": "python",
     "metadata": {},
     "outputs": [
      {
       "output_type": "pyout",
       "prompt_number": 22,
       "text": [
        "[<matplotlib.lines.Line2D at 0xb38b06c>]"
       ]
      }
     ],
     "prompt_number": 22
    },
    {
     "cell_type": "code",
     "collapsed": false,
     "input": [
      "from numpy import matlib as ml\n",
      "R_r=np.genfromtxt('R_r_a.dat');\n",
      "r,M,tB,E=np.genfromtxt('model_fun.dat',unpack=True)\n",
      "t,t1=np.genfromtxt('t.dat',unpack=True)\n",
      "ind=3\n",
      "clf()\n",
      "plot(r[:],R_r[0,:],'ro')\n",
      "plot(r[:],R_r[1,:],'g--')\n",
      "plot(r[:],R_r[2,:],'b--')\n",
      "plot(r[:],R_r[3,:],'y.')"
     ],
     "language": "python",
     "metadata": {},
     "outputs": [
      {
       "output_type": "pyout",
       "prompt_number": 23,
       "text": [
        "[<matplotlib.lines.Line2D at 0xbc9832c>]"
       ]
      }
     ],
     "prompt_number": 23
    },
    {
     "cell_type": "code",
     "collapsed": false,
     "input": [
      "from astropy import cosmology as cosmo\n",
      "c=cosmo.FlatLambdaCDM(H0=100.0,Om0=1,Tcmb0=0.0,Neff=0.0,name=\"simple flat\")\n",
      "from numpy import matlib as ml\n",
      "R=np.genfromtxt('R.dat');\n",
      "exp=np.genfromtxt('exp_a.dat');\n",
      "r,M,tB,E=np.genfromtxt('model_fun.dat',unpack=True)\n",
      "t,t1=np.genfromtxt('t.dat',unpack=True)\n",
      "ind=1\n",
      "clf()\n",
      "#plot(t[:],c.H(t))\n",
      "#print r[0],r[1],r[2],r[3]\n",
      "#plot(t[:],exp[:,0],'c--')\n",
      "plot(t[:],exp[:,1],'r')\n",
      "#plot(t[:],exp[:,2],'g+')\n",
      "\n",
      "plot(t[:],exp[:,3],'b.')\n",
      "plot(t[:],exp[:,4],'y.')"
     ],
     "language": "python",
     "metadata": {},
     "outputs": [
      {
       "output_type": "pyout",
       "prompt_number": 24,
       "text": [
        "[<matplotlib.lines.Line2D at 0xe69992c>]"
       ]
      }
     ],
     "prompt_number": 24
    },
    {
     "cell_type": "heading",
     "level": 3,
     "metadata": {},
     "source": [
      "H(a)"
     ]
    },
    {
     "cell_type": "code",
     "collapsed": false,
     "input": [
      "from numpy import matlib as ml\n",
      "R=np.genfromtxt('R.dat');\n",
      "exp=np.genfromtxt('exp_a.dat');\n",
      "r,M,tB,E=np.genfromtxt('model_fun.dat',unpack=True)\n",
      "ind=4\n",
      "#scale factors\n",
      "a=ml.repmat(r,R.shape[0],1)\n",
      "a = R / a\n",
      "#Hubble\n",
      "H0=100.0 / 299792.458 * 1000\n",
      "a1 = H0/ a**1.5\n",
      "z1=a1[:,ind]\n",
      "#z1=z1/z1.max()\n",
      "z2=exp[:,ind]\n",
      "#z2=z2/z2.max()\n",
      "clf()\n",
      "plot(a[:,ind],z1,'r')\n",
      "plot(a[:,ind],z2,'b--')"
     ],
     "language": "python",
     "metadata": {},
     "outputs": [
      {
       "metadata": {},
       "output_type": "pyout",
       "prompt_number": 3,
       "text": [
        "[<matplotlib.lines.Line2D at 0xdb9a32c>]"
       ]
      }
     ],
     "prompt_number": 3
    },
    {
     "cell_type": "heading",
     "level": 3,
     "metadata": {},
     "source": [
      "$g_{rr}(t)$"
     ]
    },
    {
     "cell_type": "code",
     "collapsed": false,
     "input": [
      "from numpy import matlib as ml\n",
      "R=np.genfromtxt('R.dat');\n",
      "grr=np.genfromtxt('grr.dat');\n",
      "r,M,tB,E=np.genfromtxt('model_fun.dat',unpack=True)\n",
      "t,t1=np.genfromtxt('t.dat',unpack=True)\n",
      "ind=1\n",
      "clf()\n",
      "plot(t[:],grr[:,ind],'r')"
     ],
     "language": "python",
     "metadata": {},
     "outputs": [
      {
       "metadata": {},
       "output_type": "pyout",
       "prompt_number": 4,
       "text": [
        "[<matplotlib.lines.Line2D at 0xdf9efcc>]"
       ]
      }
     ],
     "prompt_number": 4
    },
    {
     "cell_type": "heading",
     "level": 3,
     "metadata": {},
     "source": [
      "$\\rho(t)$"
     ]
    },
    {
     "cell_type": "code",
     "collapsed": false,
     "input": [
      "from numpy import matlib as ml\n",
      "R=np.genfromtxt('R.dat');\n",
      "rho=np.genfromtxt('rho_a.dat')\n",
      "r,M,tB,E=np.genfromtxt('model_fun.dat',unpack=True)\n",
      "t,t1=np.genfromtxt('t.dat',unpack=True)\n",
      "ind=1\n",
      "clf()\n",
      "\n",
      "plot(t[:],rho[:,1],'r')"
     ],
     "language": "python",
     "metadata": {},
     "outputs": [
      {
       "metadata": {},
       "output_type": "pyout",
       "prompt_number": 2,
       "text": [
        "[<matplotlib.lines.Line2D at 0xc48686c>]"
       ]
      }
     ],
     "prompt_number": 2
    }
   ],
   "metadata": {}
  }
 ]
}