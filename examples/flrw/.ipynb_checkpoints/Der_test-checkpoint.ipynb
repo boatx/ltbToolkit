{
 "metadata": {
  "name": ""
 },
 "nbformat": 3,
 "nbformat_minor": 0,
 "worksheets": [
  {
   "cells": [
    {
     "cell_type": "code",
     "collapsed": false,
     "input": [
      "ind=100\n",
      "r,M,tB,E=np.genfromtxt('model_fun.dat',unpack=True)\n",
      "t,t1=np.genfromtxt('t.dat',unpack=True)\n",
      "\n",
      "R_r_a = np.genfromtxt('R_r_a.dat')\n",
      "R_r = np.genfromtxt('R_r.dat')\n",
      "\n",
      "clf()\n",
      "plot(t[:],R_r_a[:,ind],'b')\n",
      "plot(t[:],R_r[:,ind],'r+')\n",
      "\n",
      "a=R_r_a[:,ind]\n",
      "b=R_r[:,ind]\n",
      "\n",
      "\n"
     ],
     "language": "python",
     "metadata": {},
     "outputs": [],
     "prompt_number": 24
    },
    {
     "cell_type": "code",
     "collapsed": false,
     "input": [
      "ind=100\n",
      "r,M,tB,E=np.genfromtxt('model_fun.dat',unpack=True)\n",
      "t,t1=np.genfromtxt('t.dat',unpack=True)\n",
      "\n",
      "R_t_a = np.genfromtxt('R_t_a.dat')\n",
      "R_t = np.genfromtxt('R_t.dat')\n",
      "\n",
      "clf()\n",
      "plot(t[:],R_t_a[:,ind],'b-')\n",
      "plot(t[:],R_t[:,ind],'r+')\n",
      "\n",
      "a=R_r_a[:,ind]\n",
      "b=R_r[:,ind]\n",
      "ratio = a/b\n",
      "print \"ratio_max={0}\".format(ratio.max())\n",
      "print \"ratio_min={0}\".format(ratio.min())\n",
      "#plot(ratio)"
     ],
     "language": "python",
     "metadata": {},
     "outputs": [
      {
       "output_type": "stream",
       "stream": "stdout",
       "text": [
        "ratio_max=1.0\n",
        "ratio_min=1.0\n"
       ]
      }
     ],
     "prompt_number": 25
    },
    {
     "cell_type": "code",
     "collapsed": false,
     "input": [
      "ind=100\n",
      "r,M,tB,E=np.genfromtxt('model_fun.dat',unpack=True)\n",
      "t,t1=np.genfromtxt('t.dat',unpack=True)\n",
      "\n",
      "R_t_a = np.genfromtxt('R_t_a.dat')\n",
      "R_rt_a = np.genfromtxt('R_rt_a.dat')\n",
      "R_rt = np.genfromtxt('R_rt.dat')\n",
      "\n",
      "clf()\n",
      "#plot(t[:],R_t_a[:,ind],'+')\n",
      "plot(t[:],R_rt_a[:,ind],'b-')\n",
      "plot(t[:],R_rt[:,ind],'r+')\n",
      "\n",
      "a=R_rt_a[:,ind]\n",
      "b=R_rt[:,ind]\n",
      "ratio=a/b\n",
      "#plot(ratio)\n",
      "#duza ruznica dla t bliskiego 0\n",
      "print \"ratio_max={0}\".format(ratio.max())\n",
      "print \"ratio_min={0}\".format(ratio.min())\n",
      "\n",
      "#a=R_t_a[:,ind]\n",
      "#b=R_rt_a[:,ind]\n",
      "#ratio=a/b\n",
      "#plot(ratio)\n"
     ],
     "language": "python",
     "metadata": {},
     "outputs": [
      {
       "output_type": "stream",
       "stream": "stdout",
       "text": [
        "ratio_max=1.07399758793\n",
        "ratio_min=1.0\n"
       ]
      }
     ],
     "prompt_number": 26
    },
    {
     "cell_type": "code",
     "collapsed": false,
     "input": [
      "expk0 = np.genfromtxt('exp_k0.dat')\n",
      "exp = np.genfromtxt('exp_a.dat')\n",
      "t1,t = np.genfromtxt('t.dat',unpack=True)\n",
      "ind=100\n",
      "clf()\n",
      "plot(t[:],expk0[:,ind],'b-')\n",
      "plot(t[:],exp[:,ind],'r-')"
     ],
     "language": "python",
     "metadata": {},
     "outputs": [
      {
       "metadata": {},
       "output_type": "pyout",
       "prompt_number": 3,
       "text": [
        "[<matplotlib.lines.Line2D at 0xeda9d2c>]"
       ]
      }
     ],
     "prompt_number": 3
    },
    {
     "cell_type": "code",
     "collapsed": false,
     "input": [
      "rok0 = np.genfromtxt('rho_k0.dat')\n",
      "ro = np.genfromtxt('rho_a.dat')\n",
      "t1,t = np.genfromtxt('t.dat',unpack=True)\n",
      "ind=100\n",
      "clf()\n",
      "plot(t[:],rok0[:,ind],'b-')\n",
      "plot(t[:],ro[:,ind],'r-')"
     ],
     "language": "python",
     "metadata": {},
     "outputs": [
      {
       "metadata": {},
       "output_type": "pyout",
       "prompt_number": 4,
       "text": [
        "[<matplotlib.lines.Line2D at 0xb4c362c>]"
       ]
      }
     ],
     "prompt_number": 4
    },
    {
     "cell_type": "code",
     "collapsed": false,
     "input": [],
     "language": "python",
     "metadata": {},
     "outputs": []
    }
   ],
   "metadata": {}
  }
 ]
}