{
 "metadata": {
  "name": ""
 },
 "nbformat": 3,
 "nbformat_minor": 0,
 "worksheets": [
  {
   "cells": [
    {
     "cell_type": "heading",
     "level": 3,
     "metadata": {},
     "source": [
      "a(t) 1.0 1.5 0.5"
     ]
    },
    {
     "cell_type": "code",
     "collapsed": false,
     "input": [
      "from numpy import matlib as ml\n",
      "\n",
      "from phys_const import *\n",
      "execfile('flrw_param.py')\n",
      "\n",
      "#indices of r\n",
      "ind = 100\n",
      "#dist from point to point\n",
      "ptp=1\n",
      "\n",
      "r,M,tB,E=np.genfromtxt('model_fun.dat',unpack=True)\n",
      "t,t1=np.genfromtxt('t.dat',unpack=True)\n",
      "\n",
      "R_min=np.genfromtxt('R_min.dat');\n",
      "R_max=np.genfromtxt('R_max.dat');\n",
      "R_zero=np.genfromtxt('R_zero.dat');\n",
      "\n",
      "a=ml.repmat(r,R_zero.shape[0],1)\n",
      "a_min=R_min/a\n",
      "a_max=R_max/a\n",
      "a_zero=R_zero/a\n",
      "\n",
      "clf()\n",
      "#xlim([0.,t_max*Gyr_per_Gpc])\n",
      "#ylim([0.,1.])\n",
      "rc('text', usetex=True)\n",
      "rc('font', family='serif',size=\"15\")\n",
      "plot(t[::ptp]*Gyr_per_Gpc,a_min[::ptp,ind],'b-',label=\"min\")\n",
      "plot(t[::ptp]*Gyr_per_Gpc,a_max[::ptp,ind],'g-',label=\"max\")\n",
      "plot(t[::ptp]*Gyr_per_Gpc,a_zero[::ptp,ind],'c-',label=\"zero\")\n",
      "xlabel(\"t [Gyr]\")\n",
      "ylabel(\"a\",rotation=0,labelpad=15)\n",
      "legend(loc='upper left')\n",
      "#plt.savefig('a_{0}.png'.format(Om_m_0), bbox_inches='tight')"
     ],
     "language": "python",
     "metadata": {},
     "outputs": []
    },
    {
     "cell_type": "heading",
     "level": 3,
     "metadata": {},
     "source": [
      "Teoretical"
     ]
    },
    {
     "cell_type": "code",
     "collapsed": false,
     "input": [
      "from scipy import integrate\n",
      "\n",
      "def ft(x):\n",
      "    return 1.0 /( H0*sqrt( (Om_m_0/x) - (Om_m_0 - 1) ) )\n",
      "\n",
      "a1=1.0\n",
      "a2=1.0/(1+1e6)\n",
      "a = linspace(a2,a1,1000)\n",
      "\n",
      "\n",
      "t_min = []\n",
      "t_plus = []\n",
      "t_zero = []\n",
      "\n",
      "Om_m_0 = 1.0\n",
      "for ai in a[:]:\n",
      "    tx,ex = integrate.quad(ft,a2,ai)\n",
      "    t_zero.append(tx)\n",
      "\n",
      "Om_m_0 = 1.1\n",
      "for ai in a[:]:\n",
      "    tx,ex = integrate.quad(ft,a2,ai)\n",
      "    t_plus.append(tx)\n",
      "    \n",
      "Om_m_0 = 0.9\n",
      "for ai in a[:]:\n",
      "    tx,ex = integrate.quad(ft,a2,ai)\n",
      "    t_min.append(tx)\n",
      "\n",
      "t_min=array(t_min)\n",
      "t_plus=array(t_plus)\n",
      "t_zero=array(t_zero)\n",
      "\n",
      "clf()\n",
      "rc('text', usetex=True)\n",
      "rc('font', family='serif',size=\"15\")\n",
      "plot(t_zero[:],a[:],'r-',label=\"zero\")\n",
      "plot(t_plus[:],a[:],'b-',label=\"plus\")\n",
      "plot(t_min[:],a[:],'g-',label=\"min\")\n",
      "xlabel(\"t [Gyr]\")\n",
      "ylabel(\"a\",rotation=0,labelpad=15)\n",
      "legend(loc='upper left')"
     ],
     "language": "python",
     "metadata": {},
     "outputs": []
    }
   ],
   "metadata": {}
  }
 ]
}