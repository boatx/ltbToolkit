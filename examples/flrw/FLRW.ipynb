{
 "metadata": {
  "name": ""
 },
 "nbformat": 3,
 "nbformat_minor": 0,
 "worksheets": [
  {
   "cells": [
    {
     "cell_type": "heading",
     "level": 3,
     "metadata": {},
     "source": [
      "$H_0$"
     ]
    },
    {
     "cell_type": "code",
     "collapsed": false,
     "input": [
      "from numpy import matlib as ml\n",
      "from scipy import integrate\n",
      "from scipy.optimize import curve_fit\n",
      "from plot_conf import *\n",
      "execfile('phys_const.py')\n",
      "execfile('flrw_param.py')\n",
      "\n",
      "print \"k={0}\".format(k)\n",
      "print \"Om_0={0}\".format(Om_m_0)\n",
      "#indices of r\n",
      "ind = 100\n",
      "#dist from point to point\n",
      "ptp=20\n",
      "\n",
      "def ft(x):\n",
      "    return 1.0 /( H0*sqrt( (Om_m_0/x) - (Om_m_0 - 1) ) )\n",
      "\n",
      "r,M,tB,E=np.genfromtxt('model_fun.dat',unpack=True)\n",
      "t,t1=np.genfromtxt('t.dat',unpack=True)\n",
      "H=np.genfromtxt('exp_a.dat')\n",
      "H=H/Gyr_per_Gpc\n",
      "R=np.genfromtxt('R.dat')\n",
      "a=ml.repmat(r,R.shape[0],1)\n",
      "a=R/a\n",
      "\n",
      "\n",
      "a1=1.0\n",
      "a2=1.0/(1+1e6)\n",
      "t_result = []\n",
      "t_error = []\n",
      "a_in = []\n",
      "for ai in a[:,ind]:\n",
      "    tx,ex = integrate.quad(ft,a2,ai)\n",
      "    t_result.append(tx)\n",
      "    t_error.append(ex)\n",
      "    a_in.append(ai)\n",
      "\n",
      "t_result=array(t_result)\n",
      "a_in=array(a_in)\n",
      "\n",
      "H_in = sqrt(Om_m_0*a_in**-3 + Om_k_0*a_in**-2)*H0\n",
      "H_in = H_in/Gyr_per_Gpc\n",
      "H_from_a  = sqrt(Om_m_0*a**-3 + Om_k_0*a**-2)*H0\n",
      "H_from_a  = H_from_a/Gyr_per_Gpc\n",
      "#ploting\n",
      "clf()\n",
      "xlim([0.,t_max*Gyr_per_Gpc])\n",
      "rc('text', usetex=True)\n",
      "rc('font', family='serif',size=font_size)\n",
      "print \"H_0={0}\".format(H[:,ind].min()*(299792.458/1000)*Gyr_per_Gpc)\n",
      "plot(t[::ptp]*Gyr_per_Gpc,H[::ptp,ind]*(299792.458/1000)*Gyr_per_Gpc,'r+',label=\"LTB\")\n",
      "plot(t_result[:]*Gyr_per_Gpc,H_in[:]*(299792.458/1000)*Gyr_per_Gpc,'b-',label=\"FLRW\")\n",
      "\n",
      "gca().set_yscale('log')\n",
      "\n",
      "xlabel(r'$t [Gyr]$',size=label_size)\n",
      "ylabel(r'$H(t,r) \\left[ h\\,km\\,s^{-1}\\,Mpc^{-1}\\right] $',size=label_size)\n",
      "legend(loc='upper right',prop={'size':legend_size})\n",
      "\n",
      "plt.savefig('H_{0}.png'.format(Om_m_0), bbox_inches='tight')"
     ],
     "language": "python",
     "metadata": {},
     "outputs": [
      {
       "output_type": "stream",
       "stream": "stdout",
       "text": [
        "k=0.0556325\n",
        "Om_0=1.5\n",
        "H_0=99.9998395516"
       ]
      },
      {
       "output_type": "stream",
       "stream": "stdout",
       "text": [
        "\n"
       ]
      }
     ],
     "prompt_number": 1
    },
    {
     "cell_type": "code",
     "collapsed": false,
     "input": [
      "from phys_const import *\n",
      "\n",
      "ro = 3*H0*H0/8*pi*G\n",
      "\n",
      "print \"ro={0}\".format(ro)\n",
      "\n",
      "G2=6.673e-11/c**2\n",
      "H2=H0_kmsMpc/c**2\n",
      "\n",
      "ro2 = 3*H2"
     ],
     "language": "python",
     "metadata": {},
     "outputs": [
      {
       "output_type": "stream",
       "stream": "stdout",
       "text": [
        "ro=6.27315278072e-11\n"
       ]
      }
     ],
     "prompt_number": 12
    },
    {
     "cell_type": "heading",
     "level": 3,
     "metadata": {},
     "source": [
      "$\\rho$"
     ]
    },
    {
     "cell_type": "code",
     "collapsed": false,
     "input": [
      "from numpy import matlib as ml\n",
      "from scipy import integrate\n",
      "from scipy.optimize import curve_fit\n",
      "from plot_conf import *\n",
      "#from phys_const import *\n",
      "execfile('phys_const.py')\n",
      "execfile('flrw_param.py')\n",
      "print \"Om_m_0={0}\".format(Om_m_0)\n",
      "#indices of r\n",
      "ind = 100\n",
      "#dist from point to point\n",
      "ptp=20\n",
      "\n",
      "def ft(x):\n",
      "    return 1.0 /( H0*sqrt( (Om_m_0/x) - (Om_m_0 - 1) ) )\n",
      "\n",
      "r,M,tB,E=np.genfromtxt('model_fun.dat',unpack=True)\n",
      "t,t1=np.genfromtxt('t.dat',unpack=True)\n",
      "rho=np.genfromtxt('rho_a.dat');\n",
      "R=np.genfromtxt('R.dat');\n",
      "a=ml.repmat(r,R.shape[0],1)\n",
      "a=R/a\n",
      "rho_from_a = ro_0/(a**3)\n",
      "\n",
      "a1=1.0\n",
      "a2=1.0/(1+1e6)\n",
      "t_result = []\n",
      "t_error = []\n",
      "a_in = []\n",
      "for ai in a[:,ind]:\n",
      "    tx,ex = integrate.quad(ft,a2,ai)\n",
      "    t_result.append(tx)\n",
      "    t_error.append(ex)\n",
      "    a_in.append(ai)\n",
      "\n",
      "t_result=array(t_result)\n",
      "a_in=array(a_in)\n",
      "rho_in = ro_0/(a_in**3)\n",
      "\n",
      "print \"rho_0 = {0}\".format(ro_0)\n",
      "\n",
      "clf()\n",
      "xlim([0.,t_max*Gyr_per_Gpc])\n",
      "rc('text', usetex=True)\n",
      "rc('font', family='serif',size=font_size)\n",
      "plot(t[::ptp]*Gyr_per_Gpc,rho[::ptp,ind],'r+',label=\"LTB\")\n",
      "plot(t_result[:]*Gyr_per_Gpc,rho_in[:],'b-',label=\"FLRW\")\n",
      "\n",
      "gca().set_yscale('log')\n",
      "legend(loc='upper right',prop={'size':legend_size})\n",
      "xlabel(r'$t [Gyr]$',size=label_size)\n",
      "ylabel(r'$\\rho\\,\\left[10^{10}M_\\odot Gpc^{-3}h^3$]\\right]$',size=label_size)\n",
      "legend(loc='upper right')\n",
      "plt.savefig('rho_{0}.png'.format(Om_m_0),bbox_inches='tight')"
     ],
     "language": "python",
     "metadata": {},
     "outputs": [
      {
       "output_type": "stream",
       "stream": "stdout",
       "text": [
        "Om_m_0=1\n",
        "rho_0 = 27752000.0"
       ]
      },
      {
       "output_type": "stream",
       "stream": "stdout",
       "text": [
        "\n"
       ]
      }
     ],
     "prompt_number": 11
    },
    {
     "cell_type": "heading",
     "level": 3,
     "metadata": {},
     "source": [
      "a(t)"
     ]
    },
    {
     "cell_type": "code",
     "collapsed": false,
     "input": [
      "from numpy import matlib as ml\n",
      "from scipy import integrate\n",
      "from scipy.optimize import curve_fit\n",
      "from plot_conf import *\n",
      "#from phys_const import *\n",
      "execfile('phys_const.py')\n",
      "execfile('flrw_param.py')\n",
      "\n",
      "print \"Om_m_0={0}\".format(Om_m_0)\n",
      "#indices of r\n",
      "ind = 50\n",
      "#dist from point to point\n",
      "ptp=20\n",
      "\n",
      "def ft(x):\n",
      "    return 1.0 /( H0*sqrt( (Om_m_0/x) - (Om_m_0 - 1) ) )\n",
      "\n",
      "R=np.genfromtxt('R.dat');\n",
      "r,M,tB,E=np.genfromtxt('model_fun.dat',unpack=True)\n",
      "t,t1=np.genfromtxt('t.dat',unpack=True)\n",
      "a=ml.repmat(r,R.shape[0],1)\n",
      "a=R/a\n",
      "\n",
      "\n",
      "a1=1.0\n",
      "a2=1.0/(1+1e6)\n",
      "t_result = []\n",
      "t_error = []\n",
      "a_in = []\n",
      "#print \"a_delta= {0}\".format(a_delta)\n",
      "for ai in a[:,ind]:\n",
      "    tx,ex = integrate.quad(ft,a2,ai)\n",
      "    t_result.append(tx)\n",
      "    t_error.append(ex)\n",
      "    a_in.append(ai)\n",
      "#t0_result = integrate.quad(ft,a2,a1)[0]\n",
      "#print \"t0 from integration = {0}\".format(t0_result)\n",
      "t_result=array(t_result)\n",
      "a_in=array(a_in)\n",
      "\n",
      "print \"a_0={0}\".format(a[:,ind].max())\n",
      "print \"G={0}\".format(G)\n",
      "\n",
      "clf()\n",
      "xlim([0.,t_max*Gyr_per_Gpc])\n",
      "rc('text', usetex=True)\n",
      "rc('font', family='serif',size=font_size)\n",
      "plot(t[::ptp]*Gyr_per_Gpc,a[::ptp,ind],'r+',label=\"LTB\")\n",
      "plot(t_result[:]*Gyr_per_Gpc,a_in[:],'b-',label=\"FLRW\")\n",
      "xlabel(r'$t [Gyr]$',size=label_size)\n",
      "ylabel(r'$a$',size=label_size)\n",
      "legend(loc='upper left',prop={'size':legend_size})\n",
      "plt.savefig('a_{0}.png'.format(Om_m_0), bbox_inches='tight')"
     ],
     "language": "python",
     "metadata": {},
     "outputs": [
      {
       "output_type": "stream",
       "stream": "stdout",
       "text": [
        "Om_m_0=1.5\n",
        "a_0=1.000000925"
       ]
      },
      {
       "output_type": "stream",
       "stream": "stdout",
       "text": [
        "\n",
        "G=4.78571e-13\n"
       ]
      }
     ],
     "prompt_number": 3
    },
    {
     "cell_type": "heading",
     "level": 3,
     "metadata": {},
     "source": [
      "a(r)"
     ]
    },
    {
     "cell_type": "code",
     "collapsed": false,
     "input": [
      "from numpy import matlib as ml\n",
      "R=np.genfromtxt('R.dat');\n",
      "r,M,tB,E=np.genfromtxt('model_fun.dat',unpack=True)\n",
      "rr=ml.repmat(r,R.shape[0],1)\n",
      "ind=3\n",
      "S=R/rr\n",
      "#S=R\n",
      "clf()\n",
      "plot(r[1:-1],S[0,1:-1],'r')\n",
      "plot(r[1:-1],S[1,1:-1],'g')\n",
      "plot(r[1:-1],S[2,1:-1],'b')\n",
      "plot(r[1:-1],S[3,1:-1],'c')"
     ],
     "language": "python",
     "metadata": {},
     "outputs": [
      {
       "metadata": {},
       "output_type": "pyout",
       "prompt_number": 11,
       "text": [
        "[<matplotlib.lines.Line2D at 0xc132b8c>]"
       ]
      }
     ],
     "prompt_number": 11
    },
    {
     "cell_type": "code",
     "collapsed": false,
     "input": [
      "from numpy import matlib as ml\n",
      "R=np.genfromtxt('R.dat');\n",
      "R_r=np.genfromtxt('R_r_a.dat');\n",
      "R_t=np.genfromtxt('R_t_a.dat');\n",
      "r,M,tB,E=np.genfromtxt('model_fun.dat',unpack=True)\n",
      "t,t1=np.genfromtxt('t.dat',unpack=True)\n",
      "ind=3\n",
      "clf()\n",
      "plot(r[:],R_t[0,:],'ro')\n",
      "plot(r[:],R_t[1,:],'g--')\n",
      "plot(r[:],R_t[2,:],'b--')\n",
      "plot(r[:],R_t[3,:],'y.')"
     ],
     "language": "python",
     "metadata": {},
     "outputs": [
      {
       "output_type": "pyout",
       "prompt_number": 27,
       "text": [
        "[<matplotlib.lines.Line2D at 0xcf04f6c>]"
       ]
      }
     ],
     "prompt_number": 27
    },
    {
     "cell_type": "code",
     "collapsed": false,
     "input": [
      "from numpy import matlib as ml\n",
      "R_r=np.genfromtxt('R_r_a.dat');\n",
      "r,M,tB,E=np.genfromtxt('model_fun.dat',unpack=True)\n",
      "t,t1=np.genfromtxt('t.dat',unpack=True)\n",
      "ind=3\n",
      "clf()\n",
      "plot(r[:],R_r[0,:],'ro')\n",
      "plot(r[:],R_r[1,:],'g--')\n",
      "plot(r[:],R_r[2,:],'b--')\n",
      "plot(r[:],R_r[3,:],'y.')"
     ],
     "language": "python",
     "metadata": {},
     "outputs": [
      {
       "output_type": "pyout",
       "prompt_number": 25,
       "text": [
        "[<matplotlib.lines.Line2D at 0xe1e678c>]"
       ]
      }
     ],
     "prompt_number": 25
    },
    {
     "cell_type": "code",
     "collapsed": false,
     "input": [
      "from astropy import cosmology as cosmo\n",
      "c=cosmo.FlatLambdaCDM(H0=100.0,Om0=1,Tcmb0=0.0,Neff=0.0,name=\"simple flat\")\n",
      "from numpy import matlib as ml\n",
      "R=np.genfromtxt('R.dat');\n",
      "exp=np.genfromtxt('exp_a.dat');\n",
      "r,M,tB,E=np.genfromtxt('model_fun.dat',unpack=True)\n",
      "t,t1=np.genfromtxt('t.dat',unpack=True)\n",
      "ind=1\n",
      "clf()\n",
      "plot(t[:],exp[:,1],'r')\n",
      "plot(t[:],exp[:,3],'b.')\n",
      "plot(t[:],exp[:,4],'y.')"
     ],
     "language": "python",
     "metadata": {},
     "outputs": [
      {
       "output_type": "pyout",
       "prompt_number": 33,
       "text": [
        "[<matplotlib.lines.Line2D at 0xa6b5b8c>]"
       ]
      }
     ],
     "prompt_number": 33
    },
    {
     "cell_type": "heading",
     "level": 3,
     "metadata": {},
     "source": [
      "H(a)"
     ]
    },
    {
     "cell_type": "code",
     "collapsed": false,
     "input": [
      "from numpy import matlib as ml\n",
      "R=np.genfromtxt('R.dat');\n",
      "exp=np.genfromtxt('exp_a.dat');\n",
      "r,M,tB,E=np.genfromtxt('model_fun.dat',unpack=True)\n",
      "ind=4\n",
      "#scale factors\n",
      "a=ml.repmat(r,R.shape[0],1)\n",
      "a = R / a\n",
      "#Hubble\n",
      "H0=100.0 / 299792.458 * 1000\n",
      "a1 = H0/ a**1.5\n",
      "z1=a1[:,ind]\n",
      "#z1=z1/z1.max()\n",
      "z2=exp[:,ind]\n",
      "#z2=z2/z2.max()\n",
      "clf()\n",
      "plot(a[:,ind],z1,'r')\n",
      "plot(a[:,ind],z2,'b--')"
     ],
     "language": "python",
     "metadata": {},
     "outputs": [
      {
       "output_type": "pyout",
       "prompt_number": 37,
       "text": [
        "[<matplotlib.lines.Line2D at 0xcfa08ec>]"
       ]
      }
     ],
     "prompt_number": 37
    },
    {
     "cell_type": "code",
     "collapsed": false,
     "input": [
      "from numpy import matlib as ml\n",
      "R=np.genfromtxt('R.dat');\n",
      "grr=np.genfromtxt('grr.dat');\n",
      "r,M,tB,E=np.genfromtxt('model_fun.dat',unpack=True)\n",
      "t,t1=np.genfromtxt('t.dat',unpack=True)\n",
      "ind=1\n",
      "clf()\n",
      "#plot(t[:],c.H(t))\n",
      "#print r[0],r[1],r[2],r[3]\n",
      "#plot(t[:],exp[:,0],'c--')\n",
      "plot(t[:],grr[:,1],'r')\n",
      "plot(t[:],grr[:,2],'b--')\n",
      "plot(t[:],grr[:,0],'y+')\n",
      "#plot(t[:],grr[:,4],'g.')"
     ],
     "language": "python",
     "metadata": {},
     "outputs": [
      {
       "output_type": "pyout",
       "prompt_number": 98,
       "text": [
        "[<matplotlib.lines.Line2D at 0x11196d2c>]"
       ]
      }
     ],
     "prompt_number": 98
    },
    {
     "cell_type": "code",
     "collapsed": false,
     "input": [
      "from numpy import matlib as ml\n",
      "R=np.genfromtxt('R.dat');\n",
      "rho=np.genfromtxt('rho_a.dat')\n",
      "r,M,tB,E=np.genfromtxt('model_fun.dat',unpack=True)\n",
      "t,t1=np.genfromtxt('t.dat',unpack=True)\n",
      "ind = 3\n",
      "Gyr_per_Gpc=3.08568025e16 / 299792458.0 / (365.25*24.0*3600.0)\n",
      "t_0=5.976859613/Gyr_per_Gpc\n",
      "t=(t-t_0)*Gyr_per_Gpc\n",
      "clf()\n",
      "plot(t[:],rho[:,ind],'r')"
     ],
     "language": "python",
     "metadata": {},
     "outputs": [
      {
       "output_type": "pyout",
       "prompt_number": 36,
       "text": [
        "[<matplotlib.lines.Line2D at 0xaef68ac>]"
       ]
      }
     ],
     "prompt_number": 36
    },
    {
     "cell_type": "code",
     "collapsed": false,
     "input": [
      "from numpy import matlib as ml\n",
      "R=np.genfromtxt('R.dat');\n",
      "exp=np.genfromtxt('exp_a.dat');\n",
      "r,M,tB,E=np.genfromtxt('model_fun.dat',unpack=True)\n",
      "t,t1=np.genfromtxt('t.dat',unpack=True)\n",
      "ind = 3\n",
      "Gyr_per_Gpc=3.08568025e16 / 299792458.0 / (365.25*24.0*3600.0)\n",
      "t_0=5.976859613/Gyr_per_Gpc\n",
      "t=(t-t_0)*Gyr_per_Gpc\n",
      "clf()\n",
      "plot(t[:],exp[:,ind],'r')\n"
     ],
     "language": "python",
     "metadata": {},
     "outputs": [
      {
       "output_type": "pyout",
       "prompt_number": 35,
       "text": [
        "[<matplotlib.lines.Line2D at 0xbca492c>]"
       ]
      }
     ],
     "prompt_number": 35
    }
   ],
   "metadata": {}
  }
 ]
}