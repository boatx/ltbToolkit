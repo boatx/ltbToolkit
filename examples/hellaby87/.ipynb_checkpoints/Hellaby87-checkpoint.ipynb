{
 "metadata": {
  "name": ""
 },
 "nbformat": 3,
 "nbformat_minor": 0,
 "worksheets": [
  {
   "cells": [
    {
     "cell_type": "code",
     "collapsed": false,
     "input": [
      "r,M,tB,E=np.genfromtxt('../model_fun.dat',unpack=True)"
     ],
     "language": "python",
     "metadata": {},
     "outputs": []
    },
    {
     "cell_type": "heading",
     "level": 3,
     "metadata": {},
     "source": [
      "Plotting R"
     ]
    },
    {
     "cell_type": "code",
     "collapsed": false,
     "input": [
      "from numpy import matlib as ml\n",
      "from phys_const import *\n",
      "#from tm import ttf\n",
      "execfile(\"tm.py\")\n",
      "r,M,tB,E=np.genfromtxt('model_fun.dat',unpack=True)\n",
      "R = np.genfromtxt('R.dat')\n",
      "rr=ml.repmat(r,R.shape[0],1)\n",
      "t,t1=np.genfromtxt('t.dat',unpack=True)\n",
      "t=t*Gyr_per_Gpc\n",
      "S = R / rr\n",
      "clf()\n",
      "rc('text', usetex=True)\n",
      "rc('font', family='serif',size=\"15\")\n",
      "xlim([-9,9])\n",
      "plot(r[1:-1],R[0,1:-1],'b-',label=ttf(t[0]))\n",
      "plot(r[1:-1],R[1,1:-1],'r-',label=ttf(t[1]))\n",
      "plot(r[1:-1],R[2,1:-1],'c-',label=ttf(t[2]))\n",
      "plot(r[1:-1],R[3,1:-1],'g-',label=ttf(t[3]))\n",
      "plot(r[1:-1],R[4,1:-1],'y-',label=ttf(t[4]))\n",
      "gca().set_yscale('log')\n",
      "xlabel(r'$r$')\n",
      "ylabel(r'$R(t,\\phi) \\left[ h^{-1}Gpc\\right]$')\n",
      "legend(loc='lower right',prop={'size':14})\n"
     ],
     "language": "python",
     "metadata": {},
     "outputs": [
      {
       "metadata": {},
       "output_type": "pyout",
       "prompt_number": 30,
       "text": [
        "<matplotlib.legend.Legend at 0xd2b75cc>"
       ]
      }
     ],
     "prompt_number": 30
    },
    {
     "cell_type": "heading",
     "level": 3,
     "metadata": {},
     "source": [
      "Comparing R_t from analytic formula, central derivative and octave code derivative"
     ]
    },
    {
     "cell_type": "code",
     "collapsed": false,
     "input": [
      "r,M,tB,E=np.genfromtxt('../model_fun.dat',unpack=True)\n",
      "Rt = np.genfromtxt('../R_t.dat');\n",
      "Rta = np.genfromtxt('../R_t_a.dat');\n",
      "Rtc = np.genfromtxt('../R_t_central.dat');\n",
      "ind=2\n",
      "clf()\n",
      "plot(r[1:-1],Rt[ind,1:-1],'b.')\n",
      "plot(r[1:-1],Rta[ind,1:-1],'g-',label='analytic')\n",
      "plot(r[1:-1],Rtc[ind,1:-1],'r+',label='central')"
     ],
     "language": "python",
     "metadata": {},
     "outputs": [
      {
       "output_type": "pyout",
       "prompt_number": 11,
       "text": [
        "[<matplotlib.lines.Line2D at 0xb00ad0c>]"
       ]
      }
     ],
     "prompt_number": 11
    },
    {
     "cell_type": "code",
     "collapsed": false,
     "input": [
      "from numpy import matlib as ml\n",
      "G_grav = 6.67300e-11 * 1.98892e40 / 3.08568025e22 / (299792458.0*299792458.0)\n",
      "r,M,tB,E=np.genfromtxt('../model_fun.dat',unpack=True)\n",
      "R = np.genfromtxt('../R.dat')\n",
      "R_r = np.genfromtxt('../R_r_a.dat')\n",
      "R_t = np.genfromtxt('../R_t_a.dat')\n",
      "r,E_r = np.genfromtxt('../E_r_a.dat',unpack=True)\n",
      "r,M_r = np.genfromtxt('../M_r_a.dat',unpack=True)\n",
      "R_rt = np.genfromtxt('../R_rt_a.dat');\n",
      "E_r = ml.repmat(E_r,5,1)\n",
      "M_r = ml.repmat(M_r,5,1)\n",
      "M = ml.repmat(M,5,1)\n",
      "R_rt2 = ( G_grav*( (M_r/R) - M*R_r/(R*R) ) + E_r)/R_t\n",
      "ind=0\n",
      "plot(r[1:-1],R_rt2[ind,1:-1],'g+')\n",
      "plot(r[1:-1],R_rt[ind,1:-1],'b')\n",
      "#ml.repmat([0,1,2,3],4,1)"
     ],
     "language": "python",
     "metadata": {},
     "outputs": [
      {
       "output_type": "pyout",
       "prompt_number": 114,
       "text": [
        "[<matplotlib.lines.Line2D at 0xf4bc56c>]"
       ]
      }
     ],
     "prompt_number": 114
    },
    {
     "cell_type": "heading",
     "level": 3,
     "metadata": {},
     "source": [
      "Comparing R_r from analytic formula, central derivative and octave code derivative"
     ]
    },
    {
     "cell_type": "code",
     "collapsed": false,
     "input": [
      "r,M,tB,E=np.genfromtxt('../model_fun.dat',unpack=True)\n",
      "Rr = np.genfromtxt('../R_r.dat');\n",
      "Rra = np.genfromtxt('../R_r_a.dat');\n",
      "Rrc = np.genfromtxt('../R_r_central.dat');\n",
      "ind=1\n",
      "clf()\n",
      "plot(r[1:-1],Rr[ind,1:-1],'b.')\n",
      "plot(r[1:-1],Rra[ind,1:-1],'g-',label='analytic')\n",
      "plot(r[1:-1],Rrc[ind,1:-1],'r+',label='central')"
     ],
     "language": "python",
     "metadata": {},
     "outputs": [
      {
       "output_type": "pyout",
       "prompt_number": 15,
       "text": [
        "[<matplotlib.lines.Line2D at 0xc02bc0c>]"
       ]
      }
     ],
     "prompt_number": 15
    },
    {
     "cell_type": "heading",
     "level": 3,
     "metadata": {},
     "source": [
      "Comparing R_2r from analytic formula, central derivative and octave code derivative"
     ]
    },
    {
     "cell_type": "code",
     "collapsed": false,
     "input": [
      "r,M,tB,E=np.genfromtxt('../model_fun.dat',unpack=True)\n",
      "R2r = np.genfromtxt('../R_2r.dat');\n",
      "R2ra = np.genfromtxt('../R_2r_a.dat');\n",
      "R2rc = np.genfromtxt('../R_2r_central.dat');\n",
      "ind=3\n",
      "clf()\n",
      "plot(r[1:-1],R2r[ind,1:-1],'b-')\n",
      "plot(r[1:-1],R2ra[ind,1:-1],'g-',label='analytic')\n",
      "plot(r[1:-1],R2rc[ind,1:-1],'r+',label='central')"
     ],
     "language": "python",
     "metadata": {},
     "outputs": [
      {
       "output_type": "pyout",
       "prompt_number": 11,
       "text": [
        "[<matplotlib.lines.Line2D at 0x9db0bac>]"
       ]
      }
     ],
     "prompt_number": 11
    },
    {
     "cell_type": "heading",
     "level": 3,
     "metadata": {},
     "source": [
      "Comparing R_rt from analytic formula, central derivative and octave code derivative"
     ]
    },
    {
     "cell_type": "code",
     "collapsed": false,
     "input": [
      "r,M,tB,E=np.genfromtxt('../model_fun.dat',unpack=True)\n",
      "Rrt = np.genfromtxt('../R_rt.dat');\n",
      "Rrta = np.genfromtxt('../R_rt_a.dat');\n",
      "Rrtc = np.genfromtxt('../R_rt_central.dat');\n",
      "ind=0\n",
      "clf()\n",
      "plot(r[1:-1],Rrt[ind,1:-1],'b.')\n",
      "plot(r[1:-1],Rrta[ind,1:-1],'g-',label='analytic')\n",
      "plot(r[1:-1],Rrtc[ind,1:-1],'r-',label='central')"
     ],
     "language": "python",
     "metadata": {},
     "outputs": [
      {
       "output_type": "pyout",
       "prompt_number": 17,
       "text": [
        "[<matplotlib.lines.Line2D at 0xb71a5ec>]"
       ]
      }
     ],
     "prompt_number": 17
    },
    {
     "cell_type": "heading",
     "level": 3,
     "metadata": {},
     "source": [
      "Comparing $$\\rho$$ from analytic formula, central derivative and octave code derivative"
     ]
    },
    {
     "cell_type": "code",
     "collapsed": false,
     "input": [
      "r,M,tB,E=np.genfromtxt('../model_fun.dat',unpack=True)\n",
      "ro = np.genfromtxt('../rho.dat');\n",
      "roa = np.genfromtxt('../rho_a.dat');\n",
      "roc = np.genfromtxt('../rho_central.dat');\n",
      "ind=4\n",
      "clf()\n",
      "plot(r[1:-1],ro[ind,1:-1],'b.')\n",
      "plot(r[1:-1],roa[ind,1:-1],'g-',label='analytic')\n",
      "plot(r[1:-1],roc[ind,1:-1],'r+',label='central')"
     ],
     "language": "python",
     "metadata": {},
     "outputs": [
      {
       "output_type": "pyout",
       "prompt_number": 19,
       "text": [
        "[<matplotlib.lines.Line2D at 0xc8d1a2c>]"
       ]
      }
     ],
     "prompt_number": 19
    },
    {
     "cell_type": "heading",
     "level": 3,
     "metadata": {},
     "source": [
      "Comparing H from analytic formula, central derivative and octave code derivative"
     ]
    },
    {
     "cell_type": "code",
     "collapsed": false,
     "input": [
      "r,M,tB,E=np.genfromtxt('../model_fun.dat',unpack=True)\n",
      "H = np.genfromtxt('../exp.dat');\n",
      "Ha = np.genfromtxt('../exp_a.dat');\n",
      "Hc = np.genfromtxt('../exp_central.dat');\n",
      "ind=3\n",
      "clf()\n",
      "plot(r[1:-1],H[ind,1:-1],'b.')\n",
      "plot(r[1:-1],Ha[ind,1:-1],'g-',label='analytic')\n",
      "plot(r[1:-1],Hc[ind,1:-1],'r+',label='central')"
     ],
     "language": "python",
     "metadata": {},
     "outputs": [
      {
       "output_type": "pyout",
       "prompt_number": 5,
       "text": [
        "[<matplotlib.lines.Line2D at 0xb84cc8c>]"
       ]
      }
     ],
     "prompt_number": 5
    },
    {
     "cell_type": "heading",
     "level": 3,
     "metadata": {},
     "source": [
      "Comparing Ricci Tensor from analytic formula, central derivative and octave code derivative"
     ]
    },
    {
     "cell_type": "code",
     "collapsed": false,
     "input": [
      "r,M,tB,E=np.genfromtxt('../model_fun.dat',unpack=True)\n",
      "Ric = np.genfromtxt('../ric.dat');\n",
      "Rica = np.genfromtxt('../ric_a.dat');\n",
      "#Hc = np.genfromtxt('../exp_central.dat');\n",
      "ind=4\n",
      "clf()\n",
      "plot(r[1:-1],Ric[ind,1:-1],'b.')\n",
      "plot(r[1:-1],Rica[ind,1:-1],'g-',label='analytic')\n",
      "#plot(r[1:-1],Hc[ind,1:-1],'r+',label='central')"
     ],
     "language": "python",
     "metadata": {},
     "outputs": [
      {
       "output_type": "pyout",
       "prompt_number": 4,
       "text": [
        "[<matplotlib.lines.Line2D at 0xb312f6c>]"
       ]
      }
     ],
     "prompt_number": 4
    },
    {
     "cell_type": "code",
     "collapsed": false,
     "input": [],
     "language": "python",
     "metadata": {},
     "outputs": []
    }
   ],
   "metadata": {}
  }
 ]
}