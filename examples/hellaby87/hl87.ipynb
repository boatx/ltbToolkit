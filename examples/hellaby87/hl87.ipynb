{
 "metadata": {
  "name": ""
 },
 "nbformat": 3,
 "nbformat_minor": 0,
 "worksheets": [
  {
   "cells": [
    {
     "cell_type": "heading",
     "level": 3,
     "metadata": {},
     "source": [
      "$R$"
     ]
    },
    {
     "cell_type": "code",
     "collapsed": false,
     "input": [
      "from numpy import matlib as ml\n",
      "from phys_const import *\n",
      "from plot_conf import *\n",
      "#from tm import ttf\n",
      "execfile(\"tm.py\")\n",
      "r,M,tB,E=np.genfromtxt('model_fun.dat',unpack=True)\n",
      "R = np.genfromtxt('R.dat')\n",
      "rr=ml.repmat(r,R.shape[0],1)\n",
      "t,t1=np.genfromtxt('t.dat',unpack=True)\n",
      "t=t*Gyr_per_Gpc\n",
      "S = R / rr\n",
      "clf()\n",
      "rc('text', usetex=True)\n",
      "rc('font', family='serif',size=font_size)\n",
      "xlim([-9,9])\n",
      "plot(r[1:-1],R[0,1:-1],'b-',label=ttf(t[0]))\n",
      "plot(r[1:-1],R[1,1:-1],'r-',label=ttf(t[1]))\n",
      "plot(r[1:-1],R[2,1:-1],'c-',label=ttf(t[2]))\n",
      "plot(r[1:-1],R[3,1:-1],'g-',label=ttf(t[3]))\n",
      "plot(r[1:-1],R[4,1:-1],'y-',label=ttf(t[4]))\n",
      "gca().set_yscale('log')\n",
      "xlabel(r'$r [Gpc]$',size=label_size)\n",
      "ylabel(r'$R(t,r) \\left[ h^{-1}Gpc\\right]$',size=label_size)\n",
      "legend(loc='lower right',prop={'size':legend_size})\n",
      "plt.savefig('R_hl87.png', bbox_inches='tight')"
     ],
     "language": "python",
     "metadata": {},
     "outputs": [],
     "prompt_number": 1
    },
    {
     "cell_type": "heading",
     "level": 3,
     "metadata": {},
     "source": [
      "$\\rho$"
     ]
    },
    {
     "cell_type": "code",
     "collapsed": false,
     "input": [
      "from numpy import matlib as ml\n",
      "from phys_const import *\n",
      "from tm import ttf\n",
      "from plot_conf import *\n",
      "r,M,tB,E=np.genfromtxt('model_fun.dat',unpack=True)\n",
      "rho = np.genfromtxt('rho.dat')\n",
      "t,t1=np.genfromtxt('t.dat',unpack=True)\n",
      "t=t*Gyr_per_Gpc\n",
      "clf()\n",
      "rc('text', usetex=True)\n",
      "rc('font', family='serif',size=font_size)\n",
      "#xlim([-9,9])\n",
      "plot(r[1:-1],rho[0,1:-1],'b-',label=ttf(t[0]))\n",
      "plot(r[1:-1],rho[1,1:-1],'r-',label=ttf(t[1]))\n",
      "plot(r[1:-1],rho[2,1:-1],'c-',label=ttf(t[2]))\n",
      "plot(r[1:-1],rho[3,1:-1],'g-',label=ttf(t[3]))\n",
      "plot(r[1:-1],rho[4,1:-1],'y-',label=ttf(t[4]))\n",
      "gca().set_yscale('log')\n",
      "xlabel(r'$r [Gpc]$',size=label_size)\n",
      "ylabel(r'$\\rho(t,r) [10^{10}M_\\odot Gpc^{-3}h^3$]',size=label_size)\n",
      "legend(loc='upper right',prop={'size':legend_size})\n",
      "plt.savefig('ro_hl87.png', bbox_inches='tight')"
     ],
     "language": "python",
     "metadata": {},
     "outputs": [],
     "prompt_number": 2
    },
    {
     "cell_type": "heading",
     "level": 3,
     "metadata": {},
     "source": [
      "$H$"
     ]
    },
    {
     "cell_type": "code",
     "collapsed": false,
     "input": [
      "from numpy import matlib as ml\n",
      "from phys_const import *\n",
      "from tm import ttf\n",
      "from plot_conf import *\n",
      "r,M,tB,E=np.genfromtxt('model_fun.dat',unpack=True)\n",
      "H = np.genfromtxt('exp.dat')\n",
      "H = np.abs(H)\n",
      "t,t1=np.genfromtxt('t.dat',unpack=True)\n",
      "t=t*Gyr_per_Gpc\n",
      "clf()\n",
      "rc('text', usetex=True)\n",
      "rc('font', family='serif',size=font_size)\n",
      "xlim([-9,9])\n",
      "plot(r[1:-1],H[0,1:-1],'b-',label=ttf(t[0]))\n",
      "plot(r[1:-1],H[1,1:-1],'r-',label=ttf(t[1]))\n",
      "plot(r[1:-1],H[2,1:-1],'c-',label=ttf(t[2]))\n",
      "plot(r[1:-1],H[3,1:-1],'g-',label=ttf(t[3]))\n",
      "plot(r[1:-1],H[4,1:-1],'y-',label=ttf(t[4])+r'$(H < 0)$')\n",
      "gca().set_yscale('log')\n",
      "xlabel(r'$r [Gpc]$',size=label_size)\n",
      "ylabel(r'$\\left |H(t,r)\\right | \\left [ h\\,Gyr^{-1}\\right] $',size=label_size)\n",
      "legend(loc='upper right',prop={'size':legend_size})\n",
      "plt.savefig('H_hl87.png', bbox_inches='tight')"
     ],
     "language": "python",
     "metadata": {},
     "outputs": [],
     "prompt_number": 3
    },
    {
     "cell_type": "heading",
     "level": 3,
     "metadata": {},
     "source": [
      "$M,\\;\\;t_B\\;\\; i\\;\\; E$"
     ]
    },
    {
     "cell_type": "code",
     "collapsed": false,
     "input": [
      "from pylab import figure, show\n",
      "from plot_conf import *\n",
      "from phys_const import * \n",
      "r,M,tB,E=np.genfromtxt('model_fun.dat',unpack=True)\n",
      "\n",
      "class FixedOrderFormatter(ScalarFormatter):\n",
      "    \"\"\"Formats axis ticks using scientific notation with a constant order of \n",
      "    magnitude\"\"\"\n",
      "    def __init__(self, order_of_mag=0, useOffset=True, useMathText=False):\n",
      "        self._order_of_mag = order_of_mag\n",
      "        ScalarFormatter.__init__(self, useOffset=useOffset, \n",
      "                                 useMathText=useMathText)\n",
      "    def _set_orderOfMagnitude(self, range):\n",
      "        \"\"\"Over-riding this to avoid having orderOfMagnitude reset elsewhere\"\"\"\n",
      "        self.orderOfMagnitude = self._order_of_mag\n",
      "\n",
      "# Create a figure and add three subplots.\n",
      "fig = figure()\n",
      "ax1 = fig.add_subplot(311)\n",
      "ax2 = fig.add_subplot(312, sharex=ax1)  # share ax1's xaxis\n",
      "ax3 = fig.add_subplot(313, sharex=ax1)  # share ax1's xaxis\n",
      "\n",
      "ax1.label_outer\n",
      "\n",
      "# Plot\n",
      "ax1.plot(r,M)\n",
      "ax1.set_ylabel(r'$M(r) [10^{10}M_{\\odot}]$',size=label_size);\n",
      "ax1.locator_params(nbins=4)\n",
      "\n",
      "ax2.plot(r,tB*Gyr_per_Gpc,)\n",
      "ax2.set_ylabel(r'$t_{\\mathrm{B}}(r) [h^{-1}Gyr]$',size=label_size);\n",
      "ax2.locator_params(nbins=4)\n",
      "\n",
      "ax3.plot(r,E)\n",
      "ax3.set_ylabel(r'$E(r)$',size=label_size);\n",
      "ax3.set_xlabel(r'$r [Gpc]$',size=label_size);\n",
      "ax3.yaxis.set_major_formatter(FixedOrderFormatter(-6))\n",
      "# Show the figure.\n",
      "subplots_adjust(left=None, bottom=None, right=None, top=None, wspace=None, hspace=0.5)\n",
      "show()\n",
      "plt.savefig('fun_hl87.png', bbox_inches='tight')\n"
     ],
     "language": "python",
     "metadata": {},
     "outputs": [],
     "prompt_number": 4
    },
    {
     "cell_type": "code",
     "collapsed": false,
     "input": [
      "from numpy import matlib as ml\n",
      "from phys_const import *\n",
      "from tm import ttf\n",
      "from plot_conf import *\n",
      "r,M,tB,E=np.genfromtxt('model_fun.dat',unpack=True)\n",
      "gr = np.genfromtxt('grr.dat')\n",
      "t,t1=np.genfromtxt('t.dat',unpack=True)\n",
      "t=t*Gyr_per_Gpc\n",
      "clf()\n",
      "rc('text', usetex=True)\n",
      "rc('font', family='serif',size=font_size)\n",
      "xlim([-9,9])\n",
      "plot(r[1:-1],gr[0,1:-1],'b-',label=ttf(t[0]))\n",
      "plot(r[1:-1],gr[1,1:-1],'r-',label=ttf(t[1]))\n",
      "plot(r[1:-1],gr[2,1:-1],'c-',label=ttf(t[2]))\n",
      "plot(r[1:-1],gr[3,1:-1],'g-',label=ttf(t[3]))\n",
      "plot(r[1:-1],gr[4,1:-1],'y-',label=ttf(t[4])+r'$(H < 0)$')\n",
      "gca().set_yscale('log')\n",
      "xlabel(r'$r [Gpc]$',size=label_size)\n",
      "ylabel(r'$\\left |H(t,r)\\right | \\left [ h\\,Gyr^{-1}\\right] $',size=label_size)\n",
      "legend(loc='upper right',prop={'size':legend_size})\n",
      "plt.savefig('H_hl87.png', bbox_inches='tight')"
     ],
     "language": "python",
     "metadata": {},
     "outputs": [],
     "prompt_number": 2
    },
    {
     "cell_type": "code",
     "collapsed": false,
     "input": [
      "from numpy import matlib as ml\n",
      "from phys_const import *\n",
      "from tm import ttf\n",
      "from plot_conf import *\n",
      "r,M,tB,E=np.genfromtxt('model_fun.dat',unpack=True)\n",
      "gr = np.genfromtxt('integr.dat')\n",
      "t,t1=np.genfromtxt('t.dat',unpack=True)\n",
      "t=t*Gyr_per_Gpc\n",
      "clf()\n",
      "rc('text', usetex=True)\n",
      "rc('font', family='serif',size=font_size)\n",
      "xlim([-9,9])\n",
      "plot(r[1:-1],gr[0,1:-1],'b-',label=ttf(t[0]))\n",
      "plot(r[1:-1],gr[1,1:-1],'r-',label=ttf(t[1]))\n",
      "plot(r[1:-1],gr[2,1:-1],'c-',label=ttf(t[2]))\n",
      "plot(r[1:-1],gr[3,1:-1],'g-',label=ttf(t[3]))\n",
      "plot(r[1:-1],gr[4,1:-1],'y-',label=ttf(t[4])+r'$(H < 0)$')\n",
      "gca().set_yscale('log')\n",
      "xlabel(r'$r [Gpc]$',size=label_size)\n",
      "ylabel(r'$\\left |H(t,r)\\right | \\left [ h\\,Gyr^{-1}\\right] $',size=label_size)\n",
      "legend(loc='upper right',prop={'size':legend_size})\n",
      "plt.savefig('H_hl87.png', bbox_inches='tight')"
     ],
     "language": "python",
     "metadata": {},
     "outputs": [],
     "prompt_number": 1
    },
    {
     "cell_type": "code",
     "collapsed": false,
     "input": [],
     "language": "python",
     "metadata": {},
     "outputs": []
    }
   ],
   "metadata": {}
  }
 ]
}